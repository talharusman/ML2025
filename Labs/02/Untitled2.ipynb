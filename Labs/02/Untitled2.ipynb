{
  "nbformat": 4,
  "nbformat_minor": 0,
  "metadata": {
    "colab": {
      "provenance": []
    },
    "kernelspec": {
      "name": "python3",
      "display_name": "Python 3"
    },
    "language_info": {
      "name": "python"
    }
  },
  "cells": [
    {
      "cell_type": "code",
      "execution_count": 28,
      "metadata": {
        "colab": {
          "base_uri": "https://localhost:8080/"
        },
        "id": "zDmWjnn0jBTH",
        "outputId": "4dcef902-76a5-4591-9a55-ab0b74c31eac"
      },
      "outputs": [
        {
          "output_type": "stream",
          "name": "stdout",
          "text": [
            "Index(['fid', 'name', 'population', 'county', 'latitude', 'longitude', 'level',\n",
            "       'enrollment', 'level.1'],\n",
            "      dtype='object') 27033 9\n",
            "Index(['fid', 'name', 'population', 'county', 'latitude', 'city', 'score'], dtype='object') 4221333 7\n"
          ]
        }
      ],
      "source": [
        "import pandas as pd\n",
        "import numpy as np\n",
        "# Question01\n",
        "#A\n",
        "\n",
        "D1A = pd.read_csv(\"/Lab2 D1A.csv\")\n",
        "D1B = pd.read_csv(\"/Lab2 D1B.csv\")\n",
        "D1C = pd.read_csv(\"/Lab2 D1C.csv\")\n",
        "\n",
        "# B\n",
        "\n",
        "newdata = pd.merge(D1A,D1B,on=[\"name\",\"county\",\"population\"])\n",
        "print(newdata.columns,newdata.shape[0],newdata.shape[1])\n",
        "\n",
        "# C\n",
        "comboC = pd.merge(D1A,D1C,on=\"county\")\n",
        "print(comboC.columns,comboC.shape[0],comboC.shape[1])\n",
        "\n",
        "\n",
        "\n",
        "\n",
        "\n",
        "\n",
        "\n"
      ]
    },
    {
      "cell_type": "code",
      "source": [
        "# # Question02\n",
        "\n",
        "# A\n",
        "customizedData = newdata[\"county\"]\n",
        "customizedData.head()\n",
        "size = [lambda_: np.random.choice(\"small\", \"medium\",\"high\").iter() range(27033 )]\n",
        "\n"
      ],
      "metadata": {
        "colab": {
          "base_uri": "https://localhost:8080/",
          "height": 106
        },
        "id": "5nakXAWdjJ8W",
        "outputId": "304bb038-ccce-4d12-bd7f-571473d0fc84"
      },
      "execution_count": 30,
      "outputs": [
        {
          "output_type": "error",
          "ename": "SyntaxError",
          "evalue": "invalid syntax (ipython-input-2974043339.py, line 6)",
          "traceback": [
            "\u001b[0;36m  File \u001b[0;32m\"/tmp/ipython-input-2974043339.py\"\u001b[0;36m, line \u001b[0;32m6\u001b[0m\n\u001b[0;31m    size = [lambda_: np.random.choice(\"small\", \"medium\",\"high\").iter() range(27033 )]\u001b[0m\n\u001b[0m                   ^\u001b[0m\n\u001b[0;31mSyntaxError\u001b[0m\u001b[0;31m:\u001b[0m invalid syntax\n"
          ]
        }
      ]
    },
    {
      "cell_type": "code",
      "source": [],
      "metadata": {
        "id": "_y-gM_e14xen"
      },
      "execution_count": null,
      "outputs": []
    }
  ]
}